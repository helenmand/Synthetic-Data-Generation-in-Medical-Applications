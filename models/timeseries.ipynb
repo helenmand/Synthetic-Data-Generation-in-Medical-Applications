{
 "cells": [
  {
   "cell_type": "code",
   "execution_count": 1,
   "id": "480b7518-e782-4837-901b-cd444e6e121b",
   "metadata": {},
   "outputs": [],
   "source": [
    "from sdv.sequential import PARSynthesizer\n",
    "from sdv.metadata import SingleTableMetadata\n",
    "from sdv.evaluation.single_table import evaluate_quality, get_column_plot\n",
    "\n",
    "import pandas as pd"
   ]
  },
  {
   "cell_type": "code",
   "execution_count": 2,
   "id": "3c37ca21-e1b4-411f-a7ff-107974d220fe",
   "metadata": {},
   "outputs": [
    {
     "name": "stdout",
     "output_type": "stream",
     "text": [
      "{\n",
      "    \"sequence_key\": \"user_id\",\n",
      "    \"METADATA_SPEC_VERSION\": \"SINGLE_TABLE_V1\",\n",
      "    \"sequence_index\": \"time\",\n",
      "    \"columns\": {\n",
      "        \"time\": {\n",
      "            \"sdtype\": \"numerical\"\n",
      "        },\n",
      "        \"user_id\": {\n",
      "            \"sdtype\": \"id\"\n",
      "        },\n",
      "        \"session_id\": {\n",
      "            \"sdtype\": \"numerical\"\n",
      "        },\n",
      "        \"acc_var\": {\n",
      "            \"sdtype\": \"numerical\"\n",
      "        },\n",
      "        \"hr\": {\n",
      "            \"sdtype\": \"numerical\"\n",
      "        },\n",
      "        \"rmssd\": {\n",
      "            \"sdtype\": \"numerical\"\n",
      "        },\n",
      "        \"sdnn\": {\n",
      "            \"sdtype\": \"numerical\"\n",
      "        },\n",
      "        \"temp\": {\n",
      "            \"sdtype\": \"numerical\"\n",
      "        },\n",
      "        \"eda\": {\n",
      "            \"sdtype\": \"numerical\"\n",
      "        },\n",
      "        \"eda_freq\": {\n",
      "            \"sdtype\": \"numerical\"\n",
      "        },\n",
      "        \"bm\": {\n",
      "            \"sdtype\": \"numerical\"\n",
      "        },\n",
      "        \"location\": {\n",
      "            \"sdtype\": \"categorical\"\n",
      "        },\n",
      "        \"concentration\": {\n",
      "            \"sdtype\": \"categorical\"\n",
      "        }\n",
      "    }\n",
      "}\n"
     ]
    }
   ],
   "source": [
    "metadata = SingleTableMetadata()\n",
    "\n",
    "# Detect metadata from CSV file\n",
    "metadata.detect_from_csv(filepath='datasets/baseline.csv')\n",
    "\n",
    "metadata.update_column(\n",
    "    column_name='user_id',\n",
    "    sdtype='id',\n",
    "    #pii='False'\n",
    ")\n",
    "\n",
    "metadata.update_column(\n",
    "    column_name='time',\n",
    "    sdtype='numerical',\n",
    ")\n",
    "\n",
    "metadata.set_sequence_key(column_name='user_id')\n",
    "metadata.set_sequence_index(column_name='time')\n",
    "\n",
    "metadata.validate()\n",
    "\n",
    "print(metadata)"
   ]
  },
  {
   "cell_type": "code",
   "execution_count": 7,
   "id": "7bda2deb-5dbc-4a24-ab00-9f44958044ee",
   "metadata": {
    "scrolled": true
   },
   "outputs": [
    {
     "name": "stderr",
     "output_type": "stream",
     "text": [
      "  0%|          | 0/10 [00:00<?, ?it/s]/home/e/emandan/mlenv/lib/python3.10/site-packages/torch/nn/modules/rnn.py:1133: UserWarning: RNN module weights are not part of single contiguous chunk of memory. This means they need to be compacted at every call, possibly greatly increasing memory usage. To compact weights again call flatten_parameters(). (Triggered internally at ../aten/src/ATen/native/cudnn/RNN.cpp:1424.)\n",
      "  result = _VF.gru(input, hx, self._flat_weights, self.bias, self.num_layers,\n",
      " 10%|█         | 1/10 [10:51<1:37:47, 651.95s/it]/home/e/emandan/mlenv/lib/python3.10/site-packages/torch/nn/modules/rnn.py:1133: UserWarning: RNN module weights are not part of single contiguous chunk of memory. This means they need to be compacted at every call, possibly greatly increasing memory usage. To compact weights again call flatten_parameters(). (Triggered internally at ../aten/src/ATen/native/cudnn/RNN.cpp:1424.)\n",
      "  result = _VF.gru(input, hx, self._flat_weights, self.bias, self.num_layers,\n",
      " 20%|██        | 2/10 [21:44<1:26:59, 652.47s/it]/home/e/emandan/mlenv/lib/python3.10/site-packages/torch/nn/modules/rnn.py:1133: UserWarning: RNN module weights are not part of single contiguous chunk of memory. This means they need to be compacted at every call, possibly greatly increasing memory usage. To compact weights again call flatten_parameters(). (Triggered internally at ../aten/src/ATen/native/cudnn/RNN.cpp:1424.)\n",
      "  result = _VF.gru(input, hx, self._flat_weights, self.bias, self.num_layers,\n",
      " 30%|███       | 3/10 [29:47<1:07:05, 575.14s/it]/home/e/emandan/mlenv/lib/python3.10/site-packages/torch/nn/modules/rnn.py:1133: UserWarning: RNN module weights are not part of single contiguous chunk of memory. This means they need to be compacted at every call, possibly greatly increasing memory usage. To compact weights again call flatten_parameters(). (Triggered internally at ../aten/src/ATen/native/cudnn/RNN.cpp:1424.)\n",
      "  result = _VF.gru(input, hx, self._flat_weights, self.bias, self.num_layers,\n",
      " 40%|████      | 4/10 [35:52<49:12, 492.08s/it]  /home/e/emandan/mlenv/lib/python3.10/site-packages/torch/nn/modules/rnn.py:1133: UserWarning: RNN module weights are not part of single contiguous chunk of memory. This means they need to be compacted at every call, possibly greatly increasing memory usage. To compact weights again call flatten_parameters(). (Triggered internally at ../aten/src/ATen/native/cudnn/RNN.cpp:1424.)\n",
      "  result = _VF.gru(input, hx, self._flat_weights, self.bias, self.num_layers,\n",
      " 50%|█████     | 5/10 [41:59<37:15, 447.07s/it]/home/e/emandan/mlenv/lib/python3.10/site-packages/torch/nn/modules/rnn.py:1133: UserWarning: RNN module weights are not part of single contiguous chunk of memory. This means they need to be compacted at every call, possibly greatly increasing memory usage. To compact weights again call flatten_parameters(). (Triggered internally at ../aten/src/ATen/native/cudnn/RNN.cpp:1424.)\n",
      "  result = _VF.gru(input, hx, self._flat_weights, self.bias, self.num_layers,\n",
      " 60%|██████    | 6/10 [47:59<27:48, 417.21s/it]/home/e/emandan/mlenv/lib/python3.10/site-packages/torch/nn/modules/rnn.py:1133: UserWarning: RNN module weights are not part of single contiguous chunk of memory. This means they need to be compacted at every call, possibly greatly increasing memory usage. To compact weights again call flatten_parameters(). (Triggered internally at ../aten/src/ATen/native/cudnn/RNN.cpp:1424.)\n",
      "  result = _VF.gru(input, hx, self._flat_weights, self.bias, self.num_layers,\n",
      " 70%|███████   | 7/10 [53:58<19:54, 398.22s/it]/home/e/emandan/mlenv/lib/python3.10/site-packages/torch/nn/modules/rnn.py:1133: UserWarning: RNN module weights are not part of single contiguous chunk of memory. This means they need to be compacted at every call, possibly greatly increasing memory usage. To compact weights again call flatten_parameters(). (Triggered internally at ../aten/src/ATen/native/cudnn/RNN.cpp:1424.)\n",
      "  result = _VF.gru(input, hx, self._flat_weights, self.bias, self.num_layers,\n",
      " 80%|████████  | 8/10 [1:00:06<12:57, 388.69s/it]/home/e/emandan/mlenv/lib/python3.10/site-packages/torch/nn/modules/rnn.py:1133: UserWarning: RNN module weights are not part of single contiguous chunk of memory. This means they need to be compacted at every call, possibly greatly increasing memory usage. To compact weights again call flatten_parameters(). (Triggered internally at ../aten/src/ATen/native/cudnn/RNN.cpp:1424.)\n",
      "  result = _VF.gru(input, hx, self._flat_weights, self.bias, self.num_layers,\n",
      " 90%|█████████ | 9/10 [1:06:08<06:20, 380.19s/it]/home/e/emandan/mlenv/lib/python3.10/site-packages/torch/nn/modules/rnn.py:1133: UserWarning: RNN module weights are not part of single contiguous chunk of memory. This means they need to be compacted at every call, possibly greatly increasing memory usage. To compact weights again call flatten_parameters(). (Triggered internally at ../aten/src/ATen/native/cudnn/RNN.cpp:1424.)\n",
      "  result = _VF.gru(input, hx, self._flat_weights, self.bias, self.num_layers,\n",
      "100%|██████████| 10/10 [1:12:12<00:00, 433.26s/it]\n"
     ]
    }
   ],
   "source": [
    "data = pd.read_csv(\"datasets/baseline.csv\", delimiter=',')\n",
    "\n",
    "data.head()# Create the synthesizer\n",
    "synthesizer = PARSynthesizer(\n",
    "    metadata, # required\n",
    "    enforce_min_max_values=False,\n",
    "    enforce_rounding=False,\n",
    "    epochs=180,\n",
    "    verbose=True,\n",
    "    cuda=True,\n",
    ")\n",
    "\n",
    "# Train the synthesizer\n",
    "# synthesizer.fit(data)\n",
    "# synthesizer.save(filepath='my_synthesizer.pkl')\n",
    "\n",
    "# or load one\n",
    "synthesizer = PARSynthesizer.load(filepath='my_synthesizer.pkl')\n",
    "\n",
    "# Generate synthetic data\n",
    "synthetic_data = synthesizer.sample(num_sequences=10)"
   ]
  },
  {
   "cell_type": "code",
   "execution_count": 11,
   "id": "73af88a9-a871-423f-8818-e33b4ed3bf78",
   "metadata": {},
   "outputs": [],
   "source": [
    "synthetic_data.to_csv('synthetic_data_timeseries1.csv', index=False)"
   ]
  },
  {
   "cell_type": "code",
   "execution_count": 12,
   "id": "d59eb903-966f-434b-b0b2-e412ca3ececb",
   "metadata": {},
   "outputs": [
    {
     "name": "stdout",
     "output_type": "stream",
     "text": [
      "Generating report ...\n",
      "\n",
      "(1/2) Evaluating Column Shapes: |██████████| 13/13 [00:03<00:00,  4.16it/s]|\n",
      "Column Shapes Score: 48.2%\n",
      "\n",
      "(2/2) Evaluating Column Pair Trends: |██████████| 78/78 [00:44<00:00,  1.77it/s]|\n",
      "Column Pair Trends Score: 77.12%\n",
      "\n",
      "Overall Score (Average): 62.66%\n",
      "\n"
     ]
    }
   ],
   "source": [
    "quality_report = evaluate_quality(\n",
    "    data,\n",
    "    synthetic_data,\n",
    "    metadata)"
   ]
  },
  {
   "cell_type": "code",
   "execution_count": 19,
   "id": "6dd90d46-04b0-4b45-baef-1b1dd6a58a20",
   "metadata": {},
   "outputs": [
    {
     "data": {
      "text/html": [
       "<iframe\n",
       "    scrolling=\"no\"\n",
       "    width=\"100%\"\n",
       "    height=\"545px\"\n",
       "    src=\"iframe_figures/figure_19.html\"\n",
       "    frameborder=\"0\"\n",
       "    allowfullscreen\n",
       "></iframe>\n"
      ]
     },
     "metadata": {},
     "output_type": "display_data"
    }
   ],
   "source": [
    "fig = get_column_plot(\n",
    "    real_data=data,\n",
    "    synthetic_data=synthetic_data,\n",
    "    column_name='concentration',\n",
    "    metadata=metadata,\n",
    ")\n",
    "    \n",
    "fig.show()"
   ]
  }
 ],
 "metadata": {
  "kernelspec": {
   "display_name": "My ML Environment",
   "language": "python",
   "name": "mymlenv"
  },
  "language_info": {
   "codemirror_mode": {
    "name": "ipython",
    "version": 3
   },
   "file_extension": ".py",
   "mimetype": "text/x-python",
   "name": "python",
   "nbconvert_exporter": "python",
   "pygments_lexer": "ipython3",
   "version": "3.10.10"
  }
 },
 "nbformat": 4,
 "nbformat_minor": 5
}
