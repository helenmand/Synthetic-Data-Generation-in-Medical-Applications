{
 "cells": [
  {
   "cell_type": "code",
   "execution_count": 8,
   "metadata": {},
   "outputs": [],
   "source": [
    "import pandas as pd\n",
    "import numpy as np\n",
    "import tensorflow as tf\n",
    "from tensorflow.keras.models import Sequential\n",
    "from tensorflow.keras.layers import Dense, LeakyReLU\n",
    "from sklearn.preprocessing import MinMaxScaler"
   ]
  },
  {
   "cell_type": "code",
   "execution_count": 16,
   "metadata": {},
   "outputs": [],
   "source": [
    "def load_data(file_path):\n",
    "    data = pd.read_csv(file_path)\n",
    "    data['Diagnosis'] = data['Diagnosis'].replace({'M': 0, 'B': 1})\n",
    "    return data\n",
    "\n",
    "def normalize_data(data):\n",
    "    scaler = MinMaxScaler()\n",
    "    data_normalized = scaler.fit_transform(data)\n",
    "    return data_normalized, scaler"
   ]
  },
  {
   "cell_type": "code",
   "execution_count": null,
   "metadata": {},
   "outputs": [],
   "source": [
    "def build_generator(input_dim, output_dim):\n",
    "    model = Sequential()\n",
    "    model.add(Dense(128, input_dim=input_dim))\n",
    "    model.add(LeakyReLU(alpha=0.01))\n",
    "    model.add(Dense(output_dim, activation='tanh'))\n",
    "    return model\n",
    "\n",
    "def build_discriminator(input_dim):\n",
    "    model = Sequential()\n",
    "    model.add(Dense(128, input_dim=input_dim))\n",
    "    model.add(LeakyReLU(alpha=0.01))\n",
    "    model.add(Dense(1, activation='sigmoid'))\n",
    "    return model\n",
    "\n",
    "def build_gan(generator, discriminator):\n",
    "    # Compile GAN\n",
    "    model = Sequential()\n",
    "    model.add(generator)\n",
    "    model.add(discriminator)\n",
    "    return model\n",
    "\n",
    "def train_gan(gan, generator, discriminator, data, epochs=10000, batch_size=32, noise_dim=100):\n",
    "    half_batch = batch_size // 2\n",
    "    for epoch in range(epochs):\n",
    "        # Train discriminator\n",
    "        idx = np.random.randint(0, data.shape[0], half_batch)\n",
    "        real_data = data[idx]\n",
    "\n",
    "        noise = np.random.normal(0, 1, (half_batch, noise_dim))\n",
    "        fake_data = generator.predict(noise)\n",
    "\n",
    "        d_loss_real = discriminator.train_on_batch(real_data, np.ones((half_batch, 1)))\n",
    "        d_loss_fake = discriminator.train_on_batch(fake_data, np.zeros((half_batch, 1)))\n",
    "        d_loss = 0.5 * np.add(d_loss_real, d_loss_fake)\n",
    "\n",
    "        # Train generator\n",
    "        noise = np.random.normal(0, 1, (batch_size, noise_dim))\n",
    "        valid_y = np.array([1] * batch_size)\n",
    "\n",
    "        g_loss = gan.train_on_batch(noise, valid_y)\n",
    "\n",
    "        if epoch % 100 == 0:\n",
    "            print(f\"{epoch} [D loss: {d_loss[0]}, acc.: {100*d_loss[1]}%] [G loss: {g_loss}]\")\n",
    "\n",
    "def generate_synthetic_data(generator, scaler, num_samples, noise_dim=100):\n",
    "    noise = np.random.normal(0, 1, (num_samples, noise_dim))\n",
    "    synthetic_data = generator.predict(noise)\n",
    "    synthetic_data = scaler.inverse_transform(synthetic_data)\n",
    "    return synthetic_data"
   ]
  },
  {
   "cell_type": "code",
   "execution_count": null,
   "metadata": {},
   "outputs": [],
   "source": [
    "file_path = 'datasets/breast.csv'\n",
    "data = load_data(file_path)"
   ]
  },
  {
   "cell_type": "code",
   "execution_count": null,
   "metadata": {},
   "outputs": [],
   "source": [
    "data_normalized, scaler = normalize_data(data)\n",
    "input_dim = data_normalized.shape[1]\n",
    "noise_dim = 100\n",
    "\n",
    "generator = build_generator(noise_dim, input_dim)\n",
    "discriminator = build_discriminator(input_dim)\n",
    "\n",
    "discriminator.compile(loss='binary_crossentropy', optimizer='adam', metrics=['accuracy'])\n",
    "gan = build_gan(generator, discriminator)\n",
    "gan.compile(loss='binary_crossentropy', optimizer='adam')"
   ]
  },
  {
   "cell_type": "code",
   "execution_count": null,
   "metadata": {},
   "outputs": [],
   "source": [
    "train_gan(gan, generator, discriminator, data_normalized, epochs=10000, batch_size=32, noise_dim=noise_dim)"
   ]
  },
  {
   "cell_type": "code",
   "execution_count": 19,
   "metadata": {},
   "outputs": [
    {
     "name": "stdout",
     "output_type": "stream",
     "text": [
      "\u001b[1m32/32\u001b[0m \u001b[32m━━━━━━━━━━━━━━━━━━━━\u001b[0m\u001b[37m\u001b[0m \u001b[1m0s\u001b[0m 3ms/step\n",
      "Synthetic data generated and saved to synthetic/manual_ganbc.csv\n"
     ]
    }
   ],
   "source": [
    "num_samples = 1000  # Number of synthetic samples you want to generate\n",
    "synthetic_data = generate_synthetic_data(generator, scaler, num_samples)\n",
    "synthetic_data_df = pd.DataFrame(synthetic_data, columns=data.columns)\n",
    "\n",
    "# Save synthetic data to CSV\n",
    "save_to_file = 'synthetic/manual_ganbc.csv'\n",
    "synthetic_data_df.to_csv(save_to_file, index=False)\n",
    "print(f\"Synthetic data generated and saved to {save_to_file}\")"
   ]
  }
 ],
 "metadata": {
  "kernelspec": {
   "display_name": "ATML_SDV",
   "language": "python",
   "name": "python3"
  },
  "language_info": {
   "codemirror_mode": {
    "name": "ipython",
    "version": 3
   },
   "file_extension": ".py",
   "mimetype": "text/x-python",
   "name": "python",
   "nbconvert_exporter": "python",
   "pygments_lexer": "ipython3",
   "version": "3.12.3"
  }
 },
 "nbformat": 4,
 "nbformat_minor": 2
}
